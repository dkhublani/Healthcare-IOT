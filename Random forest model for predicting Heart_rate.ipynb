{
 "cells": [
  {
   "cell_type": "code",
   "execution_count": 16,
   "metadata": {},
   "outputs": [],
   "source": [
    "data = read.csv(\"/home/dupad/Desktop/healthcare IOT/Data.csv\")\n",
    "#data=data[c((1:2641),(2761:2880),(3001:3120),(3241:5520)),]\n",
    "#data=data[c((1:2641),(2761:2880),(3001:5520),(5521:7560)),]\n",
    "#data=data[c((5521:6720)),]\n",
    "#data=data[c((6721:7560)),]\n",
    "data=data[,c(2:13,15,17)]\n",
    "data=data[complete.cases(data), ]"
   ]
  },
  {
   "cell_type": "code",
   "execution_count": 10,
   "metadata": {},
   "outputs": [
    {
     "name": "stderr",
     "output_type": "stream",
     "text": [
      "Updating HTML index of packages in '.Library'\n",
      "Making 'packages.html' ... done\n",
      "randomForest 4.6-14\n",
      "Type rfNews() to see new features/changes/bug fixes.\n",
      "\n",
      "Attaching package: ‘randomForest’\n",
      "\n",
      "The following object is masked from ‘package:ggplot2’:\n",
      "\n",
      "    margin\n",
      "\n"
     ]
    }
   ],
   "source": [
    "#train = sample(nrow(data),round(0.8*nrow(data)))\n",
    "\n",
    "#training_data = data[train,]\n",
    "#validation_data = data[-train,]\n",
    "\n",
    "\n",
    "install.packages(\"randomForest\")\n",
    "library(randomForest)\n",
    "\n",
    "#model = randomForest(x = training_data[,-12], y = training_data[,12], ntree = 700, mtry = sqrt(ncol(training_data)) )\n",
    "#model1 = randomForest(x = training_data[,-12], y = training_data[,12], ntree = 10000, mtry = 7 )\n",
    "#model2 = randomForest(x = training_data[,-12], y = training_data[,12], ntree =1000, mtry = 7 )\n",
    "\n",
    "\n",
    "#pred=predict(model,validation_data[,-12])\n",
    "#pred1=predict(model1,validation_data[,-12])\n",
    "#pred2=predict(model2,validation_data[,-12])\n",
    "\n",
    "\n",
    "#RMSE=rmse(validation_data$RMSE,pred)\n",
    "#RMSE1=rmse(validation_data$RMSE,pred1)\n",
    "#RMSE2=rmse(validation_data$RMSE,pred2)\n",
    "\n",
    "#R2.0 <- 1 - (sum((validation_data$RMSE-pred)^2)/sum((validation_data$RMSE-mean(validation_data$RMSE))^2))\n",
    "#R2.1 <- 1 - (sum((validation_data$RMSE-pred1)^2)/sum((validation_data$RMSE-mean(validation_data$RMSE))^2))\n",
    "#R2.2 <- 1 - (sum((validation_data$RMSE-pred2)^2)/sum((validation_data$RMSE-mean(validation_data$RMSE))^2))\n"
   ]
  },
  {
   "cell_type": "code",
   "execution_count": 6,
   "metadata": {},
   "outputs": [],
   "source": [
    "install.packages('caret')"
   ]
  },
  {
   "cell_type": "code",
   "execution_count": 17,
   "metadata": {},
   "outputs": [
    {
     "name": "stdout",
     "output_type": "stream",
     "text": [
      "Random Forest \n",
      "\n",
      "5347 samples\n",
      "  13 predictor\n",
      "\n",
      "No pre-processing\n",
      "Resampling: Cross-Validated (5 fold) \n",
      "Summary of sample sizes: 4278, 4276, 4277, 4279, 4278 \n",
      "Resampling results across tuning parameters:\n",
      "\n",
      "  mtry  RMSE      Rsquared   MAE     \n",
      "   2    7.678477  0.3867923  5.865718\n",
      "  12    6.505382  0.5036024  4.183564\n",
      "  23    6.620447  0.4898333  4.195171\n",
      "\n",
      "RMSE was used to select the optimal model using the smallest value.\n",
      "The final value used for the model was mtry = 12.\n"
     ]
    }
   ],
   "source": [
    "library(caret)\n",
    "tc.cv <- trainControl(\"cv\", number=5)\n",
    "model1 <- train(RMSE~., data=data, trControl=tc.cv, method=\"rf\")\n",
    "print (model1)"
   ]
  }
 ],
 "metadata": {
  "kernelspec": {
   "display_name": "R",
   "language": "R",
   "name": "ir"
  },
  "language_info": {
   "codemirror_mode": "r",
   "file_extension": ".r",
   "mimetype": "text/x-r-source",
   "name": "R",
   "pygments_lexer": "r",
   "version": "3.5.0"
  }
 },
 "nbformat": 4,
 "nbformat_minor": 2
}
